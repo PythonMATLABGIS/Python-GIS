{
 "cells": [
  {
   "cell_type": "markdown",
   "metadata": {},
   "source": [
    "<a id='top'></a>\n",
    "## Table of Contents\n",
    "1. [Toc1](#1)<br>\n",
    "    1.1 [Toc2](#11)<br>\n",
    "    1.2 [Toc2](#12)<br>\n",
    "    1.3 [Toc2](#13)<br>\n",
    "    1.4 [Toc2](#14)<br>\n",
    "    1.5 [Toc2](#15)<br>\n",
    "    1.6 [Toc2](#16)<br>\n",
    "    1.7 [Toc2](#17)<br>\n",
    "    1.8 [Toc2](#18)<br>\n",
    "    1.9 [Toc2](#19)<br>   \n",
    "2. [Toc2](#2)<br>\n",
    "    2.1 [Toc2](#21)<br>\n",
    "    2.2 [Toc2](#22)<br>\n",
    "    2.3 [Toc2](#23)<br>\n",
    "    2.4 [Toc2](#24)<br>\n",
    "    2.5 [Toc2](#25)<br>\n",
    "    2.6 [Toc2](#26)<br>\n",
    "    2.7 [Toc2](#27)<br>\n",
    "    2.8 [Toc2](#28)<br>\n",
    "    2.9 [Toc2](#29)<br>   \n",
    "3. [Toc3](#3)<br>\n",
    "    3.1 [Toc2](#31)<br>\n",
    "    3.2 [Toc2](#32)<br>\n",
    "    3.3 [Toc2](#33)<br>\n",
    "    3.4 [Toc2](#34)<br>\n",
    "    3.5 [Toc2](#35)<br>\n",
    "    3.6 [Toc2](#36)<br>\n",
    "    3.7 [Toc2](#37)<br>\n",
    "    3.8 [Toc2](#38)<br>\n",
    "    3.9 [Toc2](#39)<br>   \n",
    "4. [Toc4](#4)<br>\n",
    "    4.1 [Toc2](#41)<br>\n",
    "    4.2 [Toc2](#42)<br>\n",
    "    4.3 [Toc2](#43)<br>\n",
    "    4.4 [Toc2](#44)<br>\n",
    "    4.5 [Toc2](#45)<br>\n",
    "    4.6 [Toc2](#46)<br>\n",
    "    4.7 [Toc2](#47)<br>\n",
    "    4.8 [Toc2](#48)<br>\n",
    "    4.9 [Toc2](#49)<br>   \n",
    "5. [Toc5](#5)<br>\n",
    "    5.1 [Toc2](#51)<br>\n",
    "    5.2 [Toc2](#52)<br>\n",
    "    5.3 [Toc2](#53)<br>\n",
    "    5.4 [Toc2](#54)<br>\n",
    "    5.5 [Toc2](#55)<br>\n",
    "    5.6 [Toc2](#56)<br>\n",
    "    5.7 [Toc2](#57)<br>\n",
    "    5.8 [Toc2](#58)<br>\n",
    "    5.9 [Toc2](#59)<br>   \n",
    "6. [Toc6](#6)<br>\n",
    "    6.1 [Toc2](#61)<br>\n",
    "    6.2 [Toc2](#62)<br>\n",
    "    6.3 [Toc2](#63)<br>\n",
    "    6.4 [Toc2](#64)<br>\n",
    "    6.5 [Toc2](#65)<br>\n",
    "    6.6 [Toc2](#66)<br>\n",
    "    6.7 [Toc2](#67)<br>\n",
    "    6.8 [Toc2](#68)<br>\n",
    "    6.9 [Toc2](#69)<br>   \n",
    "7. [Toc7](#7)<br>\n",
    "    7.1 [Toc2](#71)<br>\n",
    "    7.2 [Toc2](#72)<br>\n",
    "    7.3 [Toc2](#73)<br>\n",
    "    1.4 [Toc2](#74)<br>\n",
    "    1.5 [Toc2](#75)<br>\n",
    "    8.6 [Toc2](#76)<br>\n",
    "    8.7 [Toc2](#77)<br>\n",
    "    8.8 [Toc2](#78)<br>\n",
    "    8.9 [Toc2](#79)<br>   \n",
    "8. [Toc8](#8)<br>\n",
    "    8.1 [Toc2](#81)<br>\n",
    "    8.2 [Toc2](#82)<br>\n",
    "    8.3 [Toc2](#83)<br>\n",
    "    8.4 [Toc2](#84)<br>\n",
    "    8.5 [Toc2](#85)<br>\n",
    "    8.6 [Toc2](#86)<br>\n",
    "    8.7 [Toc2](#87)<br>\n",
    "    8.8 [Toc2](#88)<br>\n",
    "    8.9 [Toc2](#89)<br>   \n",
    "9. [Toc9](#9)<br>\n",
    "    9.1 [Toc2](#91)<br>\n",
    "    9.2 [Toc2](#92)<br>\n",
    "    9.3 [Toc2](#93)<br>\n",
    "    9.4 [Toc2](#94)<br>\n",
    "    9.5 [Toc2](#95)<br>\n",
    "    9.6 [Toc2](#96)<br>\n",
    "    9.7 [Toc2](#97)<br>\n",
    "    9.8 [Toc2](#98)<br>\n",
    "    9.9 [Toc2](#99)<br>   \n",
    "10. [Toc10](#10)<br>\n",
    "    10.1 [Toc2](#101)<br>\n",
    "    10.2 [Toc2](#102)<br>\n",
    "    10.3 [Toc2](#103)<br>\n",
    "    10.4 [Toc2](#104)<br>\n",
    "    10.5 [Toc2](#105)<br>\n",
    "    10.6 [Toc2](#106)<br>\n",
    "    10.7 [Toc2](#107)<br>\n",
    "    10.8 [Toc2](#108)<br>\n",
    "    10.9 [Toc2](#109)<br>   \n",
    "[go to bottom](#bottom)    "
   ]
  },
  {
   "cell_type": "markdown",
   "metadata": {},
   "source": [
    "# 1. Toc 1 <a id='1'></a>\n",
    "[go to top](#top)<br>"
   ]
  },
  {
   "cell_type": "markdown",
   "metadata": {},
   "source": [
    "## 1.1 Toc 11 <a id='11'></a>\n",
    "[go to top](#top)<br>"
   ]
  },
  {
   "cell_type": "code",
   "execution_count": null,
   "metadata": {},
   "outputs": [],
   "source": [
    "cd C:\\Dropbox\\Study\\U_ArcpyPro\\LPA\\Scripts"
   ]
  },
  {
   "cell_type": "code",
   "execution_count": null,
   "metadata": {},
   "outputs": [],
   "source": [
    "run 31.py"
   ]
  },
  {
   "cell_type": "markdown",
   "metadata": {},
   "source": [
    "**Take home note:** \n",
    "* ``-"
   ]
  },
  {
   "cell_type": "markdown",
   "metadata": {},
   "source": [
    "## 1.2 Toc 12 <a id='12'></a>\n",
    "[go to top](#top)<br>"
   ]
  },
  {
   "cell_type": "markdown",
   "metadata": {},
   "source": [
    "## 1.3 Toc 13 <a id='13'></a>\n",
    "[go to top](#top)<br>"
   ]
  },
  {
   "cell_type": "markdown",
   "metadata": {},
   "source": [
    "## 1.4 Toc 14 <a id='14'></a>\n",
    "[go to top](#top)<br>"
   ]
  },
  {
   "cell_type": "markdown",
   "metadata": {},
   "source": [
    "## 1.5 Toc 15 <a id='15'></a>\n",
    "[go to top](#top)<br>"
   ]
  },
  {
   "cell_type": "markdown",
   "metadata": {},
   "source": [
    "## 1.6 Toc 16 <a id='16'></a>\n",
    "[go to top](#top)<br>"
   ]
  },
  {
   "cell_type": "markdown",
   "metadata": {},
   "source": [
    "## 1.7 Toc 17 <a id='17'></a>\n",
    "[go to top](#top)<br>"
   ]
  },
  {
   "cell_type": "markdown",
   "metadata": {},
   "source": [
    "## 1.8 Toc 18 <a id='18'></a>\n",
    "[go to top](#top)<br>"
   ]
  },
  {
   "cell_type": "markdown",
   "metadata": {},
   "source": [
    "## 1.9 Toc 19 <a id='19'></a>\n",
    "[go to top](#top)<br>"
   ]
  },
  {
   "cell_type": "markdown",
   "metadata": {},
   "source": [
    "## 1.10 Toc 110 <a id='110'></a>\n",
    "[go to top](#top)<br>"
   ]
  },
  {
   "cell_type": "markdown",
   "metadata": {},
   "source": [
    "# 2. Toc 2 <a id='2'></a>\n",
    "[go to top](#top)<br>"
   ]
  },
  {
   "cell_type": "markdown",
   "metadata": {},
   "source": [
    "## 2.1 Toc 21 <a id='21'></a>\n",
    "[go to top](#top)<br>"
   ]
  },
  {
   "cell_type": "markdown",
   "metadata": {},
   "source": [
    "## 2.2 Toc 22 <a id='22'></a>\n",
    "[go to top](#top)<br>"
   ]
  },
  {
   "cell_type": "markdown",
   "metadata": {},
   "source": [
    "#### 2.3 Toc 23 <a id='23'></a>\n",
    "[go to top](#top)<br>"
   ]
  },
  {
   "cell_type": "markdown",
   "metadata": {},
   "source": [
    "## 2.4 Toc 24 <a id='24'></a>\n",
    "[go to top](#top)<br>"
   ]
  },
  {
   "cell_type": "markdown",
   "metadata": {},
   "source": [
    "## 2.5 Toc 25 <a id='25'></a>\n",
    "[go to top](#top)<br>"
   ]
  },
  {
   "cell_type": "markdown",
   "metadata": {},
   "source": [
    "## 2.6 Toc 26 <a id='26'></a>\n",
    "[go to top](#top)<br>"
   ]
  },
  {
   "cell_type": "markdown",
   "metadata": {},
   "source": [
    "## 2.7 Toc 27 <a id='27'></a>\n",
    "[go to top](#top)<br>"
   ]
  },
  {
   "cell_type": "markdown",
   "metadata": {},
   "source": [
    "## 2.8 Toc 28 <a id='28'></a>\n",
    "[go to top](#top)<br>"
   ]
  },
  {
   "cell_type": "markdown",
   "metadata": {},
   "source": [
    "## 2.9 Toc 29 <a id='29'></a>\n",
    "[go to top](#top)<br>"
   ]
  },
  {
   "cell_type": "markdown",
   "metadata": {},
   "source": [
    "# 3. Toc 3 <a id='3'></a>\n",
    "[go to top](#top)<br>"
   ]
  },
  {
   "cell_type": "markdown",
   "metadata": {},
   "source": [
    "# 3.1 Toc 31 <a id='31'></a>\n",
    "[go to top](#top)<br>"
   ]
  },
  {
   "cell_type": "markdown",
   "metadata": {},
   "source": [
    "# 3.2 Toc 32 <a id='32'></a>\n",
    "[go to top](#top)<br>"
   ]
  },
  {
   "cell_type": "markdown",
   "metadata": {},
   "source": [
    "# 3.3 Toc 33 <a id='33'></a>\n",
    "[go to top](#top)<br>"
   ]
  },
  {
   "cell_type": "markdown",
   "metadata": {},
   "source": [
    "# 3.4 Toc 34 <a id='34'></a>\n",
    "[go to top](#top)<br>"
   ]
  },
  {
   "cell_type": "markdown",
   "metadata": {},
   "source": [
    "# 3.5 Toc 35 <a id='35'></a>\n",
    "[go to top](#top)<br>"
   ]
  },
  {
   "cell_type": "markdown",
   "metadata": {},
   "source": [
    "# 4. Toc 4<a id='4'></a>\n",
    "[go to top](#top)<br>"
   ]
  },
  {
   "cell_type": "markdown",
   "metadata": {},
   "source": [
    "# 41. Toc 41<a id='41'></a>\n",
    "[go to top](#top)<br>"
   ]
  },
  {
   "cell_type": "markdown",
   "metadata": {},
   "source": [
    "# 42. Toc 42<a id='42'></a>\n",
    "[go to top](#top)<br>"
   ]
  },
  {
   "cell_type": "markdown",
   "metadata": {},
   "source": [
    "# 43. Toc 43<a id='43'></a>\n",
    "[go to top](#top)<br>"
   ]
  },
  {
   "cell_type": "markdown",
   "metadata": {},
   "source": [
    "# 44. Toc 44<a id='44'></a>\n",
    "[go to top](#top)<br>"
   ]
  },
  {
   "cell_type": "markdown",
   "metadata": {},
   "source": [
    "# 45. Toc 45<a id='45'></a>\n",
    "[go to top](#top)<br>"
   ]
  },
  {
   "cell_type": "markdown",
   "metadata": {},
   "source": [
    "# 46. Toc 46<a id='46'></a>\n",
    "[go to top](#top)<br>"
   ]
  },
  {
   "cell_type": "markdown",
   "metadata": {},
   "source": [
    "# 5. Toc 5 <a id='5'></a>\n",
    "[go to top](#top)<br>"
   ]
  },
  {
   "cell_type": "markdown",
   "metadata": {},
   "source": [
    "# 51. Toc 51 <a id='51'></a>\n",
    "[go to top](#top)<br>"
   ]
  },
  {
   "cell_type": "markdown",
   "metadata": {},
   "source": [
    "# 52. Toc 52 <a id='52'></a>\n",
    "[go to top](#top)<br>"
   ]
  },
  {
   "cell_type": "markdown",
   "metadata": {},
   "source": [
    "# 53. Toc 53 <a id='53'></a>\n",
    "[go to top](#top)<br>"
   ]
  },
  {
   "cell_type": "markdown",
   "metadata": {},
   "source": [
    "# 54. Toc 54 <a id='54'></a>\n",
    "[go to top](#top)<br>"
   ]
  },
  {
   "cell_type": "markdown",
   "metadata": {},
   "source": [
    "# 55. Toc 55 <a id='55'></a>\n",
    "[go to top](#top)<br>"
   ]
  },
  {
   "cell_type": "markdown",
   "metadata": {},
   "source": [
    "# 56. Toc 56 <a id='56'></a>\n",
    "[go to top](#top)<br>"
   ]
  },
  {
   "cell_type": "markdown",
   "metadata": {},
   "source": [
    "# 6. Toc 6<a id='6'></a>\n",
    "[go to top](#top)<br>"
   ]
  },
  {
   "cell_type": "markdown",
   "metadata": {},
   "source": [
    "# 61. Toc 61<a id='61'></a>\n",
    "[go to top](#top)<br>"
   ]
  },
  {
   "cell_type": "markdown",
   "metadata": {},
   "source": [
    "# 62. Toc 62<a id='62'></a>\n",
    "[go to top](#top)<br>"
   ]
  },
  {
   "cell_type": "markdown",
   "metadata": {},
   "source": [
    "# 63. Toc 63<a id='63'></a>\n",
    "[go to top](#top)<br>"
   ]
  },
  {
   "cell_type": "markdown",
   "metadata": {},
   "source": [
    "# 64. Toc 64<a id='64'></a>\n",
    "[go to top](#top)<br>"
   ]
  },
  {
   "cell_type": "markdown",
   "metadata": {},
   "source": [
    "# 65. Toc 65<a id='65'></a>\n",
    "[go to top](#top)<br>"
   ]
  },
  {
   "cell_type": "markdown",
   "metadata": {},
   "source": [
    "# 66. Toc 66<a id='66'></a>\n",
    "[go to top](#top)<br>"
   ]
  },
  {
   "cell_type": "markdown",
   "metadata": {},
   "source": [
    "# 67. Toc 67<a id='67'></a>\n",
    "[go to top](#top)<br>"
   ]
  },
  {
   "cell_type": "markdown",
   "metadata": {},
   "source": [
    "# 7. Toc 7 <a id='7'></a>\n",
    "[go to top](#top)<br>"
   ]
  },
  {
   "cell_type": "markdown",
   "metadata": {},
   "source": [
    "# 71. Toc 71 <a id='71'></a>\n",
    "[go to top](#top)<br>"
   ]
  },
  {
   "cell_type": "markdown",
   "metadata": {},
   "source": [
    "# 72. Toc 72 <a id='72'></a>\n",
    "[go to top](#top)<br>"
   ]
  },
  {
   "cell_type": "markdown",
   "metadata": {},
   "source": [
    "# 73. Toc 73 <a id='73'></a>\n",
    "[go to top](#top)<br>"
   ]
  },
  {
   "cell_type": "markdown",
   "metadata": {},
   "source": [
    "# 74. Toc 74 <a id='74'></a>\n",
    "[go to top](#top)<br>"
   ]
  },
  {
   "cell_type": "markdown",
   "metadata": {},
   "source": [
    "# 75. Toc 75 <a id='75'></a>\n",
    "[go to top](#top)<br>"
   ]
  },
  {
   "cell_type": "markdown",
   "metadata": {},
   "source": [
    "# 8. Toc 8 <a id='8'></a>\n",
    "[go to top](#top)<br>"
   ]
  },
  {
   "cell_type": "markdown",
   "metadata": {},
   "source": [
    "# 81. Toc 81 <a id='81'></a>\n",
    "[go to top](#top)<br>"
   ]
  },
  {
   "cell_type": "markdown",
   "metadata": {},
   "source": [
    "# 82. Toc 82 <a id='82'></a>\n",
    "[go to top](#top)<br>"
   ]
  },
  {
   "cell_type": "markdown",
   "metadata": {},
   "source": [
    "# 83. Toc 83 <a id='83'></a>\n",
    "[go to top](#top)<br>"
   ]
  },
  {
   "cell_type": "markdown",
   "metadata": {},
   "source": [
    "# 84. Toc 84 <a id='84'></a>\n",
    "[go to top](#top)<br>"
   ]
  },
  {
   "cell_type": "markdown",
   "metadata": {},
   "source": [
    "# 85. Toc 85 <a id='85'></a>\n",
    "[go to top](#top)<br>"
   ]
  },
  {
   "cell_type": "markdown",
   "metadata": {},
   "source": [
    "# 9. Toc 9 <a id='9'></a>\n",
    "[go to top](#top)<br>"
   ]
  },
  {
   "cell_type": "markdown",
   "metadata": {},
   "source": [
    "# 91. Toc 91 <a id='91'></a>\n",
    "[go to top](#top)<br>"
   ]
  },
  {
   "cell_type": "markdown",
   "metadata": {},
   "source": [
    "# 92. Toc 92 <a id='92'></a>\n",
    "[go to top](#top)<br>"
   ]
  },
  {
   "cell_type": "markdown",
   "metadata": {},
   "source": [
    "# 93. Toc 93 <a id='93'></a>\n",
    "[go to top](#top)<br>"
   ]
  },
  {
   "cell_type": "markdown",
   "metadata": {},
   "source": [
    "# 94. Toc 94 <a id='94'></a>\n",
    "[go to top](#top)<br>"
   ]
  },
  {
   "cell_type": "markdown",
   "metadata": {},
   "source": [
    "# 95. Toc 95 <a id='95'></a>\n",
    "[go to top](#top)<br>"
   ]
  },
  {
   "cell_type": "markdown",
   "metadata": {},
   "source": [
    "# 10. Toc 10 <a id='10'></a>\n",
    "[go to top](#top)<br>"
   ]
  },
  {
   "cell_type": "markdown",
   "metadata": {},
   "source": [
    "# 101. Toc 101 <a id='101'></a>\n",
    "[go to top](#top)<br>"
   ]
  },
  {
   "cell_type": "markdown",
   "metadata": {},
   "source": [
    "# 102. Toc 102 <a id='102'></a>\n",
    "[go to top](#top)<br>"
   ]
  },
  {
   "cell_type": "markdown",
   "metadata": {},
   "source": [
    "# 103. Toc 103 <a id='103'></a>\n",
    "[go to top](#top)<br>"
   ]
  },
  {
   "cell_type": "markdown",
   "metadata": {},
   "source": [
    "# 104. Toc 104 <a id='104'></a>\n",
    "[go to top](#top)<br>"
   ]
  },
  {
   "cell_type": "markdown",
   "metadata": {},
   "source": [
    "# 105. Toc 105 <a id='105'></a>\n",
    "[go to top](#top)<br>"
   ]
  },
  {
   "cell_type": "markdown",
   "metadata": {},
   "source": [
    "# 106. Toc 106 <a id='106'></a>\n",
    "[go to top](#top)<br>"
   ]
  },
  {
   "cell_type": "markdown",
   "metadata": {},
   "source": [
    "# 107. Toc 107 <a id='107'></a>\n",
    "[go to top](#top)<br>"
   ]
  },
  {
   "cell_type": "markdown",
   "metadata": {},
   "source": [
    "# 11. Toc 11 <a id='11'></a>\n",
    "[go to top](#top)<br>"
   ]
  },
  {
   "cell_type": "markdown",
   "metadata": {},
   "source": [
    "# 11.1 Toc 111 <a id='111'></a>\n",
    "[go to top](#top)<br>"
   ]
  },
  {
   "cell_type": "markdown",
   "metadata": {},
   "source": [
    "# 11.2 Toc 112 <a id='112'></a>\n",
    "[go to top](#top)<br>"
   ]
  },
  {
   "cell_type": "markdown",
   "metadata": {},
   "source": [
    "# 11.3 Toc 113 <a id='113'></a>\n",
    "[go to top](#top)<br>"
   ]
  },
  {
   "cell_type": "markdown",
   "metadata": {},
   "source": [
    "# 11.4 Toc 114 <a id='114'></a>\n",
    "[go to top](#top)<br>"
   ]
  },
  {
   "cell_type": "markdown",
   "metadata": {},
   "source": []
  },
  {
   "cell_type": "markdown",
   "metadata": {
    "collapsed": true
   },
   "source": [
    "<a id='bottom'></a>\n",
    "[go to top](#top)<br>"
   ]
  },
  {
   "cell_type": "markdown",
   "metadata": {
    "collapsed": true
   },
   "source": [
    "**Step to prepare a table of content for a new notebook**\n",
    "* Make a copy of this note book and rename to new notebook\n",
    "* change the table of content to fit with your table of content of the new notebook\n",
    "* copy **take home note* and  * ``- and change to scipts folder and run script in each session of your new notebook."
   ]
  },
  {
   "cell_type": "code",
   "execution_count": null,
   "metadata": {
    "collapsed": true
   },
   "outputs": [],
   "source": []
  },
  {
   "cell_type": "code",
   "execution_count": null,
   "metadata": {
    "collapsed": true
   },
   "outputs": [],
   "source": []
  }
 ],
 "metadata": {
  "kernelspec": {
   "display_name": "Python 3",
   "language": "python",
   "name": "python3"
  },
  "language_info": {
   "codemirror_mode": {
    "name": "ipython",
    "version": 3
   },
   "file_extension": ".py",
   "mimetype": "text/x-python",
   "name": "python",
   "nbconvert_exporter": "python",
   "pygments_lexer": "ipython3",
   "version": "3.7.4"
  }
 },
 "nbformat": 4,
 "nbformat_minor": 2
}
